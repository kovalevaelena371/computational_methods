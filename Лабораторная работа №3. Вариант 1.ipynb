{
 "cells": [
  {
   "cell_type": "markdown",
   "metadata": {},
   "source": [
    "#### Лабораторная работа №3. Ковалёва Елена Сергеевна. 20152. Вариант 1."
   ]
  },
  {
   "cell_type": "code",
   "execution_count": 1,
   "metadata": {},
   "outputs": [],
   "source": [
    "import numpy as np\n",
    "from matplotlib import pyplot as plt"
   ]
  },
  {
   "cell_type": "markdown",
   "metadata": {},
   "source": [
    "константы:"
   ]
  },
  {
   "cell_type": "code",
   "execution_count": 2,
   "metadata": {},
   "outputs": [],
   "source": [
    "E = 30\n",
    "A = 0.0341\n",
    "r = 2150\n",
    "P = 30000\n",
    "g = 9.81\n",
    "L = 5\n",
    "C = E * A\n",
    "f = r * g * A"
   ]
  },
  {
   "cell_type": "markdown",
   "metadata": {},
   "source": [
    "точное решение и его график:"
   ]
  },
  {
   "cell_type": "code",
   "execution_count": 3,
   "metadata": {},
   "outputs": [
    {
     "data": {
      "text/plain": [
       "[<matplotlib.lines.Line2D at 0x16b68d4a7f0>]"
      ]
     },
     "execution_count": 3,
     "metadata": {},
     "output_type": "execute_result"
    },
    {
     "data": {
      "image/png": "[encoded data removed]",
      "text/plain": [
       "<Figure size 432x288 with 1 Axes>"
      ]
     },
     "metadata": {
      "needs_background": "light"
     },
     "output_type": "display_data"
    }
   ],
   "source": [
    "def uex(x):\n",
    "    k1 = 2150 * 9.81 / 60\n",
    "    k2 = (30000 + (2150 * 9.81 * 0.0341 * 5)) / (30 * 0.0341)\n",
    "    return ((k1 * (x ** 2)) - (k2 * x))\n",
    "\n",
    "Q = 1000\n",
    "X = [i * 0.001 * L for i in range(Q)]\n",
    "# График точного решения\n",
    "y_1 = [uex(x) for x in X]\n",
    "plt.plot(X, y_1, label='y')"
   ]
  },
  {
   "cell_type": "markdown",
   "metadata": {},
   "source": [
    "функции формы"
   ]
  },
  {
   "cell_type": "code",
   "execution_count": 4,
   "metadata": {},
   "outputs": [],
   "source": [
    "def fi(x, i, N):\n",
    "    delta = L / N\n",
    "    if (i == 0):\n",
    "        if ((0 <= x) & (x <= delta)):\n",
    "            a = 1 - (x / delta)\n",
    "            return a\n",
    "        else:\n",
    "            return 0\n",
    "    elif (i == N):\n",
    "        if ((((N - 1) * delta) <= x) & (x <= L)):\n",
    "            a = (x / delta) - N + 1\n",
    "            return a\n",
    "        else:\n",
    "            return 0\n",
    "    else:\n",
    "        if (((i - 1) * delta <= x) & (x <= i * delta)):\n",
    "            a = (x / delta) - i + 1\n",
    "            return a\n",
    "        elif ((i * delta <= x) & (x <= (i + 1) * delta)):\n",
    "            a = i + 1 - (x / delta)\n",
    "            return a\n",
    "        else:\n",
    "            return 0"
   ]
  },
  {
   "cell_type": "markdown",
   "metadata": {},
   "source": [
    "локальная матрица для левой части"
   ]
  },
  {
   "cell_type": "code",
   "execution_count": 5,
   "metadata": {},
   "outputs": [],
   "source": [
    "def Ke(N, i):\n",
    "    c = np.zeros((N + 1, N + 1))\n",
    "    c[i][i] = 1\n",
    "    c[i][i+1] = -1\n",
    "    c[i+1][i] = -1\n",
    "    c[i+1][i+1] = 1\n",
    "    return c"
   ]
  },
  {
   "cell_type": "markdown",
   "metadata": {},
   "source": [
    "матрица жесткости"
   ]
  },
  {
   "cell_type": "code",
   "execution_count": 7,
   "metadata": {},
   "outputs": [],
   "source": [
    "def K(N):\n",
    "    #коэффициент\n",
    "    ck = E * A * N / L\n",
    "    #матрица\n",
    "    c = np.zeros((N + 1, N + 1))\n",
    "    #складываем локальные матрицы\n",
    "    for i in range(N):\n",
    "        g = Ke(N, i)\n",
    "        c = c + g\n",
    "    #зануляем первую строку, ставим 1\n",
    "    for i in range(N + 1):\n",
    "        c[0][i] = 0\n",
    "    c[0][0] = 1\n",
    "    #домножаем на коэффициент\n",
    "    c = ck * c\n",
    "    return c"
   ]
  },
  {
   "cell_type": "markdown",
   "metadata": {},
   "source": [
    "локальная матрица для правой части"
   ]
  },
  {
   "cell_type": "code",
   "execution_count": 9,
   "metadata": {},
   "outputs": [],
   "source": [
    "def Pe(N, i):\n",
    "    c = np.zeros((N + 1, N + 1))\n",
    "    c[i][i] = 2\n",
    "    c[i][i+1] = 1\n",
    "    c[i+1][i] = 1\n",
    "    c[i+1][i+1] = 2\n",
    "    return c"
   ]
  },
  {
   "cell_type": "markdown",
   "metadata": {},
   "source": [
    "вектор нагрузок"
   ]
  },
  {
   "cell_type": "code",
   "execution_count": 10,
   "metadata": {},
   "outputs": [],
   "source": [
    "def P(N):\n",
    "    #коэффициент\n",
    "    cp = - L / (6 * N)\n",
    "    #матрица\n",
    "    c1 = np.zeros((N + 1, N + 1))\n",
    "    #складываем локальные матрицы\n",
    "    for i in range(N):\n",
    "        g = Pe(N, i)\n",
    "        c1 = c1 + g\n",
    "    #зануляем первую строку\n",
    "    for i in range(N + 1):\n",
    "        c1[0][i] = 0\n",
    "    #домножаем на коэффициент\n",
    "    c1 = cp * c1\n",
    "    #домножаем на вектор\n",
    "    c2 = np.full(N + 1, f)\n",
    "    c3 = np.transpose(c2)\n",
    "    c = c1.dot(c3)\n",
    "    #-С1*С(L)*fis(L)\n",
    "    c[N] = c[N] - 30000\n",
    "    return c"
   ]
  },
  {
   "cell_type": "markdown",
   "metadata": {},
   "source": [
    "решение слау и приближенное решение задачи"
   ]
  },
  {
   "cell_type": "code",
   "execution_count": 11,
   "metadata": {},
   "outputs": [],
   "source": [
    "def mke(N):\n",
    "    u = np.zeros(N + 1)\n",
    "    Q, R = np.linalg.qr(K(N))\n",
    "    u = np.linalg.solve(R, np.dot(Q.transpose(), P(N)))\n",
    "    return u\n",
    "\n",
    "def uh(x, N):\n",
    "    u = mke(N)\n",
    "    s = 0\n",
    "    for i in range(N + 1):\n",
    "        k = fi(x, i, N)\n",
    "        a = k * u[i]\n",
    "        s = s + a\n",
    "    return s"
   ]
  },
  {
   "cell_type": "markdown",
   "metadata": {},
   "source": [
    "относительные погрешности и число обусловленности"
   ]
  },
  {
   "cell_type": "code",
   "execution_count": 12,
   "metadata": {},
   "outputs": [],
   "source": [
    "import scipy.integrate as integrate\n",
    "import scipy.special as special\n",
    "from scipy.integrate import quad\n",
    "from numpy import sqrt\n",
    "\n",
    "def e_inf(N):\n",
    "    Q = 1000\n",
    "    X = [i * 0.001 * L for i in range(Q)]\n",
    "    a1 = max([np.abs(uex(x) - uh(x, N)) for x in X])\n",
    "    a2 = max([np.abs(uex(x)) for x in X])\n",
    "    a = a1 / a2\n",
    "    return a\n",
    "\n",
    "def u1(x, N):\n",
    "    return ((uex(x) - uh(x, N)) ** 2)\n",
    "\n",
    "def u2(x):\n",
    "    return (uex(x) ** 2)\n",
    "\n",
    "def e_l2(N):\n",
    "    Q = 1000\n",
    "    X = [i * 0.001 * L for i in range(Q)]\n",
    "    a1 = sum(u1(x, N) * 0.001 * L for x in X)\n",
    "    a2 = sum(u2(x) * 0.001 * L for x in X)\n",
    "    a = sqrt (a1 / a2)\n",
    "    return a\n",
    "\n",
    "def mu(A):\n",
    "    return np.linalg.cond(A)"
   ]
  },
  {
   "cell_type": "markdown",
   "metadata": {},
   "source": [
    "графики и таблица"
   ]
  },
  {
   "cell_type": "code",
   "execution_count": 28,
   "metadata": {},
   "outputs": [
    {
     "data": {
      "image/png": "[encoded data removed]",
      "text/plain": [
       "<Figure size 432x288 with 1 Axes>"
      ]
     },
     "metadata": {
      "needs_background": "light"
     },
     "output_type": "display_data"
    },
    {
     "name": "stdout",
     "output_type": "stream",
     "text": [
      "N\tEr_inf\tПорядок_сходимости\tEr\tEr_L2\tmu(K)\n",
      "\n",
      "5\t0.0005659933346706164\t2.643856189771084\t0.0007057590080700855\t46.332253832840706\n",
      "\n",
      "10\t0.00014149833366809927\t1.999999999995461\t0.00017643975119078833\t175.57443654867808\n",
      "\n",
      "20\t3.537458341690767e-05\t2.0000000000047775\t4.410993448443659e-05\t677.8775250641013\n",
      "\n",
      "40\t8.829496020171705e-06\t2.00231016079969\t1.102747033548959e-05\t2655.5376074008623\n",
      "\n",
      "80\t2.2073742227230253e-06\t1.9999998577286933\t2.756867851939402e-06\t10501.784647097784\n",
      "\n",
      "160\t5.518434974919537e-07\t2.0000001521240947\t6.892157688955935e-07\t41757.31054906917\n",
      "\n"
     ]
    }
   ],
   "source": [
    "Q = 1000\n",
    "X = [i * 0.001 * L for i in range(Q)]\n",
    "# График точного решения\n",
    "y_1 = [uex(x) for x in X]\n",
    "plt.plot(X, y_1, label='y')\n",
    "logs = [] # Таблица результатов\n",
    "b1 = e_inf(2)\n",
    "for N in [5, 10, 20, 40, 80, 160]:\n",
    "    y = [uh(x, N) for x in X]\n",
    "\n",
    "    a1 = e_inf(N)\n",
    "    a2 = e_l2(N)\n",
    "    plt.plot(X, y, label=f'y_pred [K={str(N)}]')\n",
    "    logs.append(f\"{N}\\t\"\n",
    "                f\"{a1}\\t\"\n",
    "                f\"{np.log2(b1/a1)}\\t\"\n",
    "                f\"{a2}\\t\"\n",
    "                f\"{mu(K(N))}\\n\")\n",
    "    b1 = a1\n",
    "plt.legend()\n",
    "plt.show()\n",
    "for line in ['N\\tEr_inf\\tПорядок_сходимости\\tEr\\tEr_L2\\tmu(K)\\n'] + logs: \n",
    "    print(line)"
   ]
  },
  {
   "cell_type": "code",
   "execution_count": 34,
   "metadata": {},
   "outputs": [
    {
     "data": {
      "image/png": "[encoded data removed]",
      "text/plain": [
       "<Figure size 432x288 with 1 Axes>"
      ]
     },
     "metadata": {
      "needs_background": "light"
     },
     "output_type": "display_data"
    },
    {
     "name": "stdout",
     "output_type": "stream",
     "text": [
      "N\tEr_inf\tПорядок_сходимости\tEr\tEr_L2\tmu(K)\n",
      "\n",
      "320\t1.3796137530102485e-07\t1.9999947616664127\t1.723040182458123e-07\t166520.14680307932\n",
      "\n"
     ]
    }
   ],
   "source": [
    "Q = 1000\n",
    "X = [i * 0.001 * L for i in range(Q)]\n",
    "# График точного решения\n",
    "y_1 = [uex(x) for x in X]\n",
    "plt.plot(X, y_1, label='y')\n",
    "logs = [] # Таблица результатов\n",
    "b1 = e_inf(160)\n",
    "N = 320\n",
    "y = [uh(x, N) for x in X]\n",
    "a1 = e_inf(N)\n",
    "a2 = e_l2(N)\n",
    "plt.plot(X, y, label=f'y_pred [K={str(N)}]')\n",
    "logs.append(f\"{N}\\t\"\n",
    "            f\"{a1}\\t\"\n",
    "            f\"{np.log2(b1/a1)}\\t\"\n",
    "            f\"{a2}\\t\"\n",
    "            f\"{mu(K(N))}\\n\")\n",
    "plt.legend()\n",
    "plt.show()\n",
    "for line in ['N\\tEr_inf\\tПорядок_сходимости\\tEr\\tEr_L2\\tmu(K)\\n'] + logs: \n",
    "    print(line)"
   ]
  },
  {
   "cell_type": "code",
   "execution_count": null,
   "metadata": {},
   "outputs": [],
   "source": []
  }
 ],
 "metadata": {
  "kernelspec": {
   "display_name": "Python 3",
   "language": "python",
   "name": "python3"
  },
  "language_info": {
   "codemirror_mode": {
    "name": "ipython",
    "version": 3
   },
   "file_extension": ".py",
   "mimetype": "text/x-python",
   "name": "python",
   "nbconvert_exporter": "python",
   "pygments_lexer": "ipython3",
   "version": "3.9.0"
  }
 },
 "nbformat": 4,
 "nbformat_minor": 4
}
