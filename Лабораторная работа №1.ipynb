{
 "cells": [
  {
   "cell_type": "code",
   "execution_count": 16,
   "metadata": {
    "pycharm": {
     "is_executing": false,
     "name": "#%%\n"
    }
   },
   "outputs": [],
   "source": [
    "import numpy as np\n",
    "import matplotlib.pyplot as plt\n"
   ]
  },
  {
   "cell_type": "code",
   "execution_count": 17,
   "metadata": {
    "pycharm": {
     "is_executing": false,
     "name": "#%%\n"
    }
   },
   "outputs": [],
   "source": [
    "# Полином Чебышева первого рода степени degree от аргумента x \n",
    "# По определению из формулировки лабораторной\n",
    "def cheb(x, degree):\n",
    "    if degree == 0:\n",
    "        return 1\n",
    "    elif degree == 1:\n",
    "        return x\n",
    "    return 2 * x * cheb(x, degree - 1) - cheb(x, degree - 2)"
   ]
  },
  {
   "cell_type": "code",
   "execution_count": 18,
   "metadata": {
    "pycharm": {
     "is_executing": false,
     "name": "#%%\n"
    }
   },
   "outputs": [],
   "source": [
    "# Функции аппроксимации (иными словами - решение СЛАУ Ac = y)\n",
    "#\n",
    "# Обе функции имеют одинаковый набор аргументов\n",
    "# 1) A - матрица значений cheb, размерности, M строк, N+1 столбец\n",
    "# 2) N - порядок решения, его также можно вычислить из размера A\n",
    "# 3) X - значения x из экспериментальны данных\n",
    "# 3) y - значения y из экспериментальны данных\n",
    "#\n",
    "# Функции возвращают \n",
    "# 1) Матрицу, которая будет использоваться в отчете\n",
    "# 2) Вектор аппроксисимрованного y, вычисленного на основе вектора c (решения СЛАУ)\n",
    "\n",
    "# Апроксимация методом решения НУ\n",
    "def calc_ne_approx(A, N, X, y):\n",
    "    At = np.transpose(A)\n",
    "    \n",
    "    # По руководству из описания лабы \n",
    "    # At*A*c = At*y => c = (At*A)^-1 * At*y\n",
    "    c = np.linalg.pinv(At.dot(A)).dot(At).dot(y) \n",
    "    \n",
    "    # Для отчета используется матрица At*A\n",
    "    # Расчет аппрокс y: для каждого x вычисляется сумма значений cheb(degree, x) * с[degree], degree от 0 до N\n",
    "    return At.dot(A), [sum([c[degree] * cheb(x, degree) for degree in range(N + 1)]) for x in X]\n",
    "\n",
    "# Аппроксимация методом вращений Гивенса\n",
    "def calc_qr_approx(A, N, X, y):\n",
    "    # Обязательно нужно скопировать y, т.к. в коде этот вектор модифицируется\n",
    "    y = np.copy(y)\n",
    "    \n",
    "    # Для экономиии времени и ресурсов используется упрощенный метод вращений\n",
    "    # Применение матрицы вращения Qij модифицирует только строки c индексами i и j\n",
    "    # При этом в отчете требуется только приводить Q*R,достаточно просто применять вращения методом \n",
    "    # выше, модифицируя исходную матрицу А, при этом не создавая дополнительных матриц\n",
    "    for column in range(A.shape[1]):\n",
    "        for line in range(column + 1, A.shape[0]):\n",
    "            # Расчет коээфициента поворота\n",
    "            # Формула взята с https://studfile.net/preview/1544152/page:6/\n",
    "            c = A[column, column] / np.sqrt(A[column, column] ** 2 + A[line, column] ** 2)\n",
    "            s = -A[line, column] / np.sqrt(A[column, column] ** 2 + A[line, column] ** 2)\n",
    "            \n",
    "            # Модификация строк\n",
    "            # Сначала нужно скопировать данные и применить вращение, а потом уже внести изменения в A\n",
    "            A_column = c * A[column, :] - s * A[line, :]\n",
    "            A_line = s * A[column, :] + c * A[line, :]\n",
    "            A[column, :] = A_column\n",
    "            A[line, :] = A_line\n",
    "\n",
    "            # Вращение также влияет на вектор y (мадификация происходит также в строках)\n",
    "            y_column = c * y[column] - s * y[line]\n",
    "            y_line = s * y[column] + c * y[line]\n",
    "            y[column] = y_column\n",
    "            y[line] = y_line\n",
    "    \n",
    "    # Имеем A - верхнетреугольную матрицу (она равна QR)\n",
    "    # Путем обратног хода Гаусса решаем СЛАУ Ac = b\n",
    "    c = np.zeros(N + 1)\n",
    "    c[N] = y[N] / A[N, N]\n",
    "    for i in range(N - 1, -1, -1):\n",
    "        c[i] = (y[i] - np.sum(A[i][i + 1:N + 1] * c[i + 1:N + 1])) / A[i][i]\n",
    "        \n",
    "    # Возращаем QR и аппрокс значения y    \n",
    "    return A, [sum([c[degree] * cheb(x, degree) for degree in range(N + 1)]) for x in X]"
   ]
  },
  {
   "cell_type": "code",
   "execution_count": 19,
   "metadata": {
    "pycharm": {
     "is_executing": false,
     "name": "#%%\n"
    }
   },
   "outputs": [],
   "source": [
    "# Величина среднеквадратичного отклонения функции (по формуле из задачи)\n",
    "# y - экспериментальные значения, y_approx - аппроксимированные\n",
    "def SME(y, y_approx):\n",
    "    return np.sqrt(sum(np.square(np.abs(y - y_approx))) / len(y)) / max(y_approx)\n",
    "\n",
    "# Величина обусловленности матрицы (используется в отчетах)\n",
    "def mu(A):\n",
    "    return np.linalg.cond(A)\n",
    "\n",
    "# Запуск функции аппрокс approx_func (под названием name) для порядков от 1 до 10 \n",
    "# Возвращает характеристики решения задачи аппроксимации (SME и mu)\n",
    "def run_approx(name, approx_func):\n",
    "    # res накапливает результаты запусков для разных порядков решения\n",
    "    res = []\n",
    "    \n",
    "    # Строим график экспериментальных данных\n",
    "    plt.plot(X, y, label='y')\n",
    "    \n",
    "    for N in range(1, 11):\n",
    "        # Подготавливаем для A СЛАУ Ac = y\n",
    "        A = np.asarray([[cheb(x, degree) for degree in range(N + 1)] for x in X])\n",
    "        \n",
    "        # Решаем СЛАУ, получаем матрицу AtA или QR (в зависимости от метода) и аппрокс y\n",
    "        A, y_approx = approx_func(A, N, X, y)\n",
    "        \n",
    "        # Вычисляем характеристики решения\n",
    "        sme = SME(y, y_approx)\n",
    "        mua = mu(A)\n",
    "        \n",
    "        # Выводи характеристики, добавляем график решения \n",
    "        print(f'{name}[{N}] SME={sme}, mu={mua}')\n",
    "        plt.plot(X, y_approx, label='y_pred' + str(N))\n",
    "        \n",
    "        # Добавляем в res характеристики решения\n",
    "        res.append((sme, mua))\n",
    "        \n",
    "    # Строим график    \n",
    "    plt.legend()\n",
    "    plt.title(name)\n",
    "    plt.show()\n",
    "    \n",
    "    return res\n"
   ]
  },
  {
   "cell_type": "code",
   "execution_count": 20,
   "metadata": {
    "pycharm": {
     "is_executing": false,
     "name": "#%%\n"
    }
   },
   "outputs": [],
   "source": [
    "# Загрузка данных\n",
    "with open('experiment_3.txt') as in_file:\n",
    "    in_data = [(float(l), float(r))\n",
    "               for (l, r) in [line.split(' ')\n",
    "                              for line in in_file.readlines()]]\n",
    "in_data = np.asarray(in_data)\n",
    "X = in_data[:, 0]\n",
    "y = in_data[:, 1]"
   ]
  },
  {
   "cell_type": "code",
   "execution_count": 21,
   "metadata": {
    "pycharm": {
     "is_executing": false,
     "name": "#%%\n"
    }
   },
   "outputs": [
    {
     "name": "stdout",
     "output_type": "stream",
     "text": [
      "NE[1] SME=0.006505310754408599, mu=342.245741196976\n",
      "NE[2] SME=0.002918244098222698, mu=147827.9745108433\n",
      "NE[3] SME=0.000669599840015131, mu=84896289.42889959\n",
      "NE[4] SME=0.000663996751233451, mu=40179947350.68278\n",
      "NE[5] SME=0.0006282723941056422, mu=23710322725736.152\n",
      "NE[6] SME=0.0006307203868201959, mu=8212469500004831.0\n",
      "NE[7] SME=0.0006237531534974065, mu=1.34199196231216e+18\n",
      "NE[8] SME=0.0006314236339124851, mu=4.040561672265645e+17\n",
      "NE[9] SME=0.0005290420295349949, mu=5.248746957833054e+17\n",
      "NE[10] SME=0.0004837742375746855, mu=4.94196842099797e+17\n",
      "QR[1] SME=0.006505310754408584, mu=18.49988489685749\n",
      "QR[2] SME=0.002918244098221485, mu=384.4840367469122\n",
      "QR[3] SME=0.0006695998399905671, mu=9213.918243020064\n",
      "QR[4] SME=0.0006639967858421485, mu=200449.83300659785\n",
      "QR[5] SME=0.0006250458928498023, mu=4869671.578549766\n",
      "QR[6] SME=0.0004826073242443699, mu=107137708.08457866\n",
      "QR[7] SME=0.0004641088100133365, mu=2602065056.431289\n",
      "QR[8] SME=0.00038424870769766345, mu=57732333510.30003\n",
      "QR[9] SME=0.00033827273465135643, mu=1397948888771.477\n",
      "QR[10] SME=0.0003363828372727924, mu=31103004445459.2\n",
      "N\tmu(AtA)(NE)\tSME(NE)\tmu(A)(QR)\tSME(QR)\n",
      "1\t0.006505310754408599\t342.245741196976\t0.006505310754408584\t0.006505310754408584\n",
      "2\t0.002918244098222698\t147827.9745108433\t0.002918244098221485\t0.002918244098221485\n",
      "3\t0.000669599840015131\t84896289.42889959\t0.0006695998399905671\t0.0006695998399905671\n",
      "4\t0.000663996751233451\t40179947350.68278\t0.0006639967858421485\t0.0006639967858421485\n",
      "5\t0.0006282723941056422\t23710322725736.152\t0.0006250458928498023\t0.0006250458928498023\n",
      "6\t0.0006307203868201959\t8212469500004831.0\t0.0004826073242443699\t0.0004826073242443699\n",
      "7\t0.0006237531534974065\t1.34199196231216e+18\t0.0004641088100133365\t0.0004641088100133365\n",
      "8\t0.0006314236339124851\t4.040561672265645e+17\t0.00038424870769766345\t0.00038424870769766345\n",
      "9\t0.0005290420295349949\t5.248746957833054e+17\t0.00033827273465135643\t0.00033827273465135643\n",
      "10\t0.0004837742375746855\t4.94196842099797e+17\t0.0003363828372727924\t0.0003363828372727924\n"
     ]
    },
    {
     "data": {
      "image/png": "[encoded data removed]",
      "text/plain": [
       "<Figure size 432x288 with 1 Axes>"
      ]
     },
     "metadata": {
      "needs_background": "light"
     },
     "output_type": "display_data"
    },
    {
     "data": {
      "image/png": "[encoded data removed]",
      "text/plain": [
       "<Figure size 432x288 with 1 Axes>"
      ]
     },
     "metadata": {
      "needs_background": "light"
     },
     "output_type": "display_data"
    }
   ],
   "source": [
    "# Запуск алгоритмов для разного порядка аппроксимации N\n",
    "res_ne = run_approx('NE', calc_ne_approx)\n",
    "res_qr = run_approx('QR', calc_qr_approx)\n",
    "\n",
    "# Вывод таблицы результатов\n",
    "print('\\t'.join(['N', 'mu(AtA)(NE)', 'SME(NE)', 'mu(A)(QR)', 'SME(QR)']))\n",
    "for i in range(10):\n",
    "    line = '\\t'.join(\n",
    "        map(str, [i + 1, res_ne[i][0], res_ne[i][1], res_qr[i][0], res_qr[i][0]]))\n",
    "    print(line)\n"
   ]
  }
 ],
 "metadata": {
  "kernelspec": {
   "display_name": "Python 3",
   "language": "python",
   "name": "python3"
  },
  "language_info": {
   "codemirror_mode": {
    "name": "ipython",
    "version": 3
   },
   "file_extension": ".py",
   "mimetype": "text/x-python",
   "name": "python",
   "nbconvert_exporter": "python",
   "pygments_lexer": "ipython3",
   "version": "3.9.0"
  },
  "pycharm": {
   "stem_cell": {
    "cell_type": "raw",
    "metadata": {
     "collapsed": false
    },
    "source": []
   }
  }
 },
 "nbformat": 4,
 "nbformat_minor": 1
}
