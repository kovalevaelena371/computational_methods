{
 "cells": [
  {
   "cell_type": "markdown",
   "metadata": {},
   "source": [
    "### Лабораторная работа №3. Вариант 3."
   ]
  },
  {
   "cell_type": "code",
   "execution_count": 1,
   "metadata": {},
   "outputs": [],
   "source": [
    "import numpy as np\n",
    "from matplotlib import pyplot as plt"
   ]
  },
  {
   "cell_type": "code",
   "execution_count": 3,
   "metadata": {},
   "outputs": [],
   "source": [
    "#Дано:\n",
    "C = 1\n",
    "L = 2\n",
    "E = 200\n",
    "P = 6000\n",
    "b = 0.1\n",
    "h = 0.1"
   ]
  },
  {
   "cell_type": "code",
   "execution_count": 4,
   "metadata": {},
   "outputs": [
    {
     "data": {
      "text/plain": [
       "[<matplotlib.lines.Line2D at 0x1a81ce5d9d0>]"
      ]
     },
     "execution_count": 4,
     "metadata": {},
     "output_type": "execute_result"
    },
    {
     "data": {
      "image/png": "[encoded data removed]",
      "text/plain": [
       "<Figure size 432x288 with 1 Axes>"
      ]
     },
     "metadata": {
      "needs_background": "light"
     },
     "output_type": "display_data"
    }
   ],
   "source": [
    "#Точное решение:\n",
    "def uex(x):\n",
    "    L = 2\n",
    "    E = 200\n",
    "    P = 6000\n",
    "    b = 0.1\n",
    "    h = 0.1\n",
    "    p1 = 6 * P / (E * b * h * h * h)\n",
    "    c2 = - p1 * L * L * 3 / 8\n",
    "    c1 = c2 + (p1 * L * L / 4)\n",
    "    c22 = - (p1 * L * L * L / 3) - (c2 * L)\n",
    "    if ((0 <= x) & (x < L * 0.5)):\n",
    "        a = (p1 * x * x * x / 6) + c1 * x\n",
    "        return a\n",
    "    #elif (((L * 0.5) <= x) & (x <= L)):\n",
    "    else:\n",
    "        a = p1 * ((L * x * x * 0.5) - (x * x * x / 6)) + (c2 * x) + c22\n",
    "        return a\n",
    "#График:\n",
    "Q = 1000\n",
    "X = [i * 0.001 * L for i in range(Q)]\n",
    "# График точного решения\n",
    "y_1 = [uex(x) for x in X]\n",
    "plt.plot(X, y_1, label='y')"
   ]
  },
  {
   "cell_type": "code",
   "execution_count": 5,
   "metadata": {},
   "outputs": [],
   "source": [
    "# функция f\n",
    "def f(x):\n",
    "    L = 2\n",
    "    E = 200\n",
    "    P = 6000\n",
    "    b = 0.1\n",
    "    h = 0.1\n",
    "    p1 = 6 * P / (E * b * h * h * h)\n",
    "    if ((0 <= x) & (x < L * 0.5)):\n",
    "        a = p1 * x\n",
    "        return a\n",
    "    elif (((L * 0.5) <= x) & (x <= L)):\n",
    "        a = p1 * (L - x)\n",
    "        return a"
   ]
  },
  {
   "cell_type": "code",
   "execution_count": 6,
   "metadata": {},
   "outputs": [],
   "source": [
    "# функция формы\n",
    "def fi(x, i, N):\n",
    "    delta = L / N\n",
    "    if (i == 0):\n",
    "        if ((0 <= x) & (x <= delta)):\n",
    "            a = 1 - (x / delta)\n",
    "            return a\n",
    "        else:\n",
    "            return 0\n",
    "    elif (i == N):\n",
    "        if ((((N - 1) * delta) <= x) & (x <= L)):\n",
    "            a = (x / delta) - N + 1\n",
    "            return a\n",
    "        else:\n",
    "            return 0\n",
    "    else:\n",
    "        if (((i - 1) * delta <= x) & (x <= i * delta)):\n",
    "            a = (x / delta) - i + 1\n",
    "            return a\n",
    "        elif ((i * delta <= x) & (x <= (i + 1) * delta)):\n",
    "            a = i + 1 - (x / delta)\n",
    "            return a\n",
    "        else:\n",
    "            return 0"
   ]
  },
  {
   "cell_type": "code",
   "execution_count": 7,
   "metadata": {},
   "outputs": [],
   "source": [
    "# локальлная матрица для левой части\n",
    "def Ke(N, i):\n",
    "    c = np.zeros((N + 1, N + 1))\n",
    "    c[i][i] = 1\n",
    "    c[i][i+1] = -1\n",
    "    c[i+1][i] = -1\n",
    "    c[i+1][i+1] = 1\n",
    "    return c"
   ]
  },
  {
   "cell_type": "code",
   "execution_count": 8,
   "metadata": {},
   "outputs": [],
   "source": [
    "# матрица жесткости\n",
    "def K(N):\n",
    "    #коэффициент\n",
    "    ck = N / L\n",
    "    #матрица\n",
    "    c = np.zeros((N + 1, N + 1))\n",
    "    #складываем локальные матрицы\n",
    "    for i in range(N):\n",
    "        g = Ke(N, i)\n",
    "        c = c + g\n",
    "    #зануляем первую и последнюю строки, ставим 1\n",
    "    for i in range(N + 1):\n",
    "        c[0][i] = 0\n",
    "        c[N][i] = 0\n",
    "    c[0][0] = 1\n",
    "    c[N][N] = 1\n",
    "    #домножаем на коэффициент\n",
    "    c = ck * c\n",
    "    return c"
   ]
  },
  {
   "cell_type": "code",
   "execution_count": 9,
   "metadata": {},
   "outputs": [],
   "source": [
    "# локальная матрица правой части\n",
    "def Pe(N, i):\n",
    "    c = np.zeros((N + 1, N + 1))\n",
    "    c[i][i] = 2\n",
    "    c[i][i+1] = 1\n",
    "    c[i+1][i] = 1\n",
    "    c[i+1][i+1] = 2\n",
    "    return c"
   ]
  },
  {
   "cell_type": "code",
   "execution_count": 10,
   "metadata": {},
   "outputs": [],
   "source": [
    "# вектор нагрузок\n",
    "def P(N):\n",
    "    L = 2\n",
    "    #коэффициент\n",
    "    cp = - L / (6 * N)\n",
    "    #матрица\n",
    "    c1 = np.zeros((N + 1, N + 1))\n",
    "    #складываем локальные матрицы\n",
    "    for i in range(N):\n",
    "        g = Pe(N, i)\n",
    "        c1 = c1 + g\n",
    "    #зануляем первую и последние строки\n",
    "    for i in range(N + 1):\n",
    "        c1[0][i] = 0\n",
    "        c1[N][i] = 0\n",
    "    #домножаем на коэффициент\n",
    "    c1 = cp * c1\n",
    "    #домножаем на вектор\n",
    "    c2 = np.full(N + 1, 0) #пока заполним нулями, позже заполним f(x)\n",
    "    for i in range(N + 1):\n",
    "        x = i * L / N\n",
    "        c2[i] = f(x)\n",
    "    c3 = np.transpose(c2)\n",
    "    c = c1.dot(c3)\n",
    "    return c"
   ]
  },
  {
   "cell_type": "code",
   "execution_count": 11,
   "metadata": {},
   "outputs": [],
   "source": [
    "# решаем слау\n",
    "def mke(N):\n",
    "    u = np.zeros(N + 1)\n",
    "    Q, R = np.linalg.qr(K(N))\n",
    "    u = np.linalg.solve(R, np.dot(Q.transpose(), P(N)))\n",
    "    return u\n",
    "# приближенное решение\n",
    "def uh(x, N):\n",
    "    u = mke(N)\n",
    "    s = 0\n",
    "    for i in range(N + 1):\n",
    "        k = fi(x, i, N)\n",
    "        a = k * u[i]\n",
    "        s = s + a\n",
    "    return s"
   ]
  },
  {
   "cell_type": "code",
   "execution_count": 12,
   "metadata": {},
   "outputs": [],
   "source": [
    "import scipy.integrate as integrate\n",
    "import scipy.special as special\n",
    "from scipy.integrate import quad\n",
    "from numpy import sqrt\n",
    "# относительная погрешность на бесконечной норме\n",
    "def e_inf(N):\n",
    "    Q = 1000\n",
    "    X = [i * 0.001 * L for i in range(Q)]\n",
    "    a1 = max([np.abs(uex(x) - uh(x, N)) for x in X])\n",
    "    a2 = max([np.abs(uex(x)) for x in X])\n",
    "    a = a1 / a2\n",
    "    return a\n",
    "\n",
    "def u1(x, N):\n",
    "    return ((uex(x) - uh(x, N)) ** 2)\n",
    "\n",
    "def u2(x):\n",
    "    return (uex(x) ** 2)\n",
    "# относительная погрешность на L2\n",
    "def e_l2(N):\n",
    "    Q = 1000\n",
    "    X = [i * 0.001 * L for i in range(Q)]\n",
    "    a1 = sum(u1(x, N) * 0.001 * L for x in X)\n",
    "    a2 = sum(u2(x) * 0.001 * L for x in X)\n",
    "    a = sqrt (a1 / a2)\n",
    "    return a\n",
    "# число обусловленности\n",
    "def mu(A):\n",
    "    return np.linalg.cond(A)"
   ]
  },
  {
   "cell_type": "code",
   "execution_count": 14,
   "metadata": {},
   "outputs": [
    {
     "data": {
      "image/png": "[encoded data removed]",
      "text/plain": [
       "<Figure size 432x288 with 1 Axes>"
      ]
     },
     "metadata": {
      "needs_background": "light"
     },
     "output_type": "display_data"
    },
    {
     "name": "stdout",
     "output_type": "stream",
     "text": [
      "N\tEr_inf\tПорядок_сходимости\tEr_L2\tmu(K)\n",
      "\n",
      "5\t0.10400075555555557\t0.8878899998765459\t0.08119454060097286\t10.99460031976541\n",
      "\n",
      "10\t0.013505401888890574\t2.9449855326478294\t0.009032302750259976\t40.689754983885145\n",
      "\n",
      "20\t0.0035633184722160985\t1.9222432362159894\t0.0022667834319651517\t161.87377437504045\n",
      "\n",
      "40\t0.000913723305550908\t1.9633921719351295\t0.0005677711681325716\t648.0040189479324\n",
      "\n",
      "80\t0.0002319283845978012\t1.9780779580233652\t0.00014254972494667052\t2593.263437826876\n",
      "\n",
      "160\t5.895267540162117e-05\t1.9760502028194913\t3.621426229253557e-05\t10374.676473872563\n",
      "\n",
      "320\t1.5116177630455538e-05\t1.9634639104101417\t9.631695489410261e-06\t41500.517125946324\n",
      "\n"
     ]
    }
   ],
   "source": [
    "Q = 1000\n",
    "X = [i * 0.001 * L for i in range(Q)]\n",
    "# График точного решения\n",
    "y_1 = [uex(x) for x in X]\n",
    "plt.plot(X, y_1, label='y')\n",
    "logs = [] # Таблица результатов\n",
    "b1 = e_inf(2)\n",
    "for N in [5, 10, 20, 40, 80, 160, 320]:\n",
    "    y = [uh(x, N) for x in X]\n",
    "\n",
    "    a1 = e_inf(N)\n",
    "    a2 = e_l2(N)\n",
    "    plt.plot(X, y, label=f'y_pred [K={str(N)}]')\n",
    "    logs.append(f\"{N}\\t\"\n",
    "                f\"{a1}\\t\"\n",
    "                f\"{np.log2(b1/a1)}\\t\"\n",
    "                f\"{a2}\\t\"\n",
    "                f\"{mu(K(N))}\\n\")\n",
    "    b1 = a1\n",
    "plt.legend()\n",
    "plt.show()\n",
    "for line in ['N\\tEr_inf\\tПорядок_сходимости\\tEr_L2\\tmu(K)\\n'] + logs: \n",
    "    print(line)"
   ]
  },
  {
   "cell_type": "code",
   "execution_count": null,
   "metadata": {},
   "outputs": [],
   "source": []
  }
 ],
 "metadata": {
  "kernelspec": {
   "display_name": "Python 3",
   "language": "python",
   "name": "python3"
  },
  "language_info": {
   "codemirror_mode": {
    "name": "ipython",
    "version": 3
   },
   "file_extension": ".py",
   "mimetype": "text/x-python",
   "name": "python",
   "nbconvert_exporter": "python",
   "pygments_lexer": "ipython3",
   "version": "3.9.0"
  }
 },
 "nbformat": 4,
 "nbformat_minor": 4
}
